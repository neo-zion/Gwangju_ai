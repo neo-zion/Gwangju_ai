{
  "nbformat": 4,
  "nbformat_minor": 0,
  "metadata": {
    "colab": {
      "name": "AI_1주차 과제.ipynb",
      "provenance": [],
      "collapsed_sections": [],
      "authorship_tag": "ABX9TyMYRy54l0wcl3ngEgBNzNou",
      "include_colab_link": true
    },
    "kernelspec": {
      "name": "python3",
      "display_name": "Python 3"
    }
  },
  "cells": [
    {
      "cell_type": "markdown",
      "metadata": {
        "id": "view-in-github",
        "colab_type": "text"
      },
      "source": [
        "<a href=\"https://colab.research.google.com/github/neo-zion/Gwangju_ai/blob/master/AI_1%EC%A3%BC%EC%B0%A8_%EA%B3%BC%EC%A0%9C.ipynb\" target=\"_parent\"><img src=\"https://colab.research.google.com/assets/colab-badge.svg\" alt=\"Open In Colab\"/></a>"
      ]
    },
    {
      "cell_type": "markdown",
      "metadata": {
        "id": "H3XLC8khsONL",
        "colab_type": "text"
      },
      "source": [
        "# 인공지능 제품 및 서비스 조사 \n",
        "## • 분야:  언어, 음성, 이미지, 자율주행 \n",
        "\n",
        "###1) 언어, 음성, 이미지\n",
        "1. 제품명: 리얼 8K\n",
        "2. 제조사: LG전자\n",
        "3. 분류 : AI 디지털 TV\n",
        "4. 사용된기술: \n",
        "\n",
        " - 자연어 음성 인식 기능을 추가하면서 전 세계 144개 국가에서 이용할 수 있으며 지원 가능한 언어는 20개 가능.\n",
        "\n",
        " - 화면 속에 등장하는 인물의 얼굴과 텍스트를 각각 인식해 최적화된 화질을 구현\n",
        "\n",
        "###2) 자율주행\n",
        "1. 제품명: 제네시스 G80\n",
        "2. 제조사: 현대자동차\n",
        "3. 종류: 자율주행자동차\n",
        "4. AI시스템: SCC-ML\n",
        "5. 사용된 기술: \n",
        "\n",
        " - 운전자의 주행성향을 차가 스스로 학습해 SCC 작동 시 운전자와 거의 흡사한 패턴으로 자율주행\n",
        "\n",
        " -  먼저 전방카메라, 레이더 등의 센서가 다양한 운전상황에서 발생되는 정보를 지속적으로 수집해 ADAS의 두뇌격인 제어컴퓨터로 보낸 후 제어컴퓨터는 입력된 정보로부터 운전자의 주행습관을 추출해 종합적인 주행성향을 파악\n",
        "\n",
        " -  주행성향에 대한 정보는 센서를 통해 계속 업데이트되기 때문에 운전자의 최근 성향을 반영\n",
        "\n",
        " - 안전운전을 크게 벗어난 주행성향은 따르지 않도록 설정\n",
        "\n",
        "\n",
        "\n"
      ]
    }
  ]
}