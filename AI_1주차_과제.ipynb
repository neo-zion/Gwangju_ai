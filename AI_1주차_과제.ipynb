{
  "nbformat": 4,
  "nbformat_minor": 0,
  "metadata": {
    "colab": {
      "name": "AI_1주차 과제.ipynb",
      "provenance": [],
      "collapsed_sections": [],
      "authorship_tag": "ABX9TyPHspHHNiJoal1vZ5gdOgyJ",
      "include_colab_link": true
    },
    "kernelspec": {
      "name": "python3",
      "display_name": "Python 3"
    }
  },
  "cells": [
    {
      "cell_type": "markdown",
      "metadata": {
        "id": "view-in-github",
        "colab_type": "text"
      },
      "source": [
        "<a href=\"https://colab.research.google.com/github/neo-zion/Gwangju_ai/blob/master/AI_1%EC%A3%BC%EC%B0%A8_%EA%B3%BC%EC%A0%9C.ipynb\" target=\"_parent\"><img src=\"https://colab.research.google.com/assets/colab-badge.svg\" alt=\"Open In Colab\"/></a>"
      ]
    },
    {
      "cell_type": "markdown",
      "metadata": {
        "id": "H3XLC8khsONL",
        "colab_type": "text"
      },
      "source": [
        "# 인공지능 제품 및 서비스 조사 \n",
        "## • 분야:  언어, 음성, 이미지, 자율주행 \n",
        "\n",
        "###1) 언어\n",
        "1. 제품명: \n",
        "2. 제조사: \n",
        "3. 분류: \n",
        "4. 사용된 기술:\n",
        "\n",
        "###2) 음성\n",
        "1. 서비스명: \n",
        "2. 제조사: \n",
        "3. 분류: \n",
        "4. 사용된 기술:\n",
        "\n",
        "\n",
        "###3) 이미지\n",
        "1. 서비스명: \n",
        "2. 제조사: \n",
        "3. 분류: \n",
        "4. 사용된 기술:\n",
        "\n",
        "###4) 자율주행\n",
        "1. 제품명: \n",
        "2. 제조사: \n",
        "3. 종류: \n",
        "4. AI시스템: \n",
        "5. 사용된 기술: "
      ]
    }
  ]
}